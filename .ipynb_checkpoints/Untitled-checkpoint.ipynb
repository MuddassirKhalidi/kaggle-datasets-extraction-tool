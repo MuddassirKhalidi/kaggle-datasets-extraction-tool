{
 "cells": [
  {
   "cell_type": "code",
   "execution_count": 1,
   "id": "1901face",
   "metadata": {},
   "outputs": [
    {
     "name": "stdout",
     "output_type": "stream",
     "text": [
      "Collecting kaggle\n",
      "  Downloading kaggle-1.7.4.5-py3-none-any.whl.metadata (16 kB)\n",
      "Requirement already satisfied: bleach in /Users/muddassirkhalidi/anaconda3/lib/python3.11/site-packages (from kaggle) (4.1.0)\n",
      "Requirement already satisfied: certifi>=14.05.14 in /Users/muddassirkhalidi/anaconda3/lib/python3.11/site-packages (from kaggle) (2024.2.2)\n",
      "Requirement already satisfied: charset-normalizer in /Users/muddassirkhalidi/anaconda3/lib/python3.11/site-packages (from kaggle) (2.0.4)\n",
      "Requirement already satisfied: idna in /Users/muddassirkhalidi/anaconda3/lib/python3.11/site-packages (from kaggle) (3.4)\n",
      "Requirement already satisfied: protobuf in /Users/muddassirkhalidi/anaconda3/lib/python3.11/site-packages (from kaggle) (4.25.3)\n",
      "Requirement already satisfied: python-dateutil>=2.5.3 in /Users/muddassirkhalidi/anaconda3/lib/python3.11/site-packages (from kaggle) (2.8.2)\n",
      "Requirement already satisfied: python-slugify in /Users/muddassirkhalidi/anaconda3/lib/python3.11/site-packages (from kaggle) (5.0.2)\n",
      "Requirement already satisfied: requests in /Users/muddassirkhalidi/anaconda3/lib/python3.11/site-packages (from kaggle) (2.31.0)\n",
      "Requirement already satisfied: setuptools>=21.0.0 in /Users/muddassirkhalidi/anaconda3/lib/python3.11/site-packages (from kaggle) (68.0.0)\n",
      "Requirement already satisfied: six>=1.10 in /Users/muddassirkhalidi/anaconda3/lib/python3.11/site-packages (from kaggle) (1.16.0)\n",
      "Requirement already satisfied: text-unidecode in /Users/muddassirkhalidi/anaconda3/lib/python3.11/site-packages (from kaggle) (1.3)\n",
      "Requirement already satisfied: tqdm in /Users/muddassirkhalidi/anaconda3/lib/python3.11/site-packages (from kaggle) (4.66.1)\n",
      "Requirement already satisfied: urllib3>=1.15.1 in /Users/muddassirkhalidi/anaconda3/lib/python3.11/site-packages (from kaggle) (2.2.2)\n",
      "Requirement already satisfied: webencodings in /Users/muddassirkhalidi/anaconda3/lib/python3.11/site-packages (from kaggle) (0.5.1)\n",
      "Requirement already satisfied: packaging in /Users/muddassirkhalidi/anaconda3/lib/python3.11/site-packages (from bleach->kaggle) (24.1)\n",
      "Downloading kaggle-1.7.4.5-py3-none-any.whl (181 kB)\n",
      "Installing collected packages: kaggle\n",
      "Successfully installed kaggle-1.7.4.5\n",
      "Note: you may need to restart the kernel to use updated packages.\n"
     ]
    }
   ],
   "source": [
    "pip install kaggle"
   ]
  },
  {
   "cell_type": "code",
   "execution_count": 4,
   "id": "2d1c41f8",
   "metadata": {},
   "outputs": [
    {
     "name": "stdout",
     "output_type": "stream",
     "text": [
      "Warning: Your Kaggle API key is readable by other users on this system! To fix this, you can run 'chmod 600 /Users/muddassirkhalidi/.kaggle/kaggle.json'\n"
     ]
    },
    {
     "ename": "NameError",
     "evalue": "name 'keyword' is not defined",
     "output_type": "error",
     "traceback": [
      "\u001b[0;31m---------------------------------------------------------------------------\u001b[0m",
      "\u001b[0;31mNameError\u001b[0m                                 Traceback (most recent call last)",
      "Cell \u001b[0;32mIn[4], line 5\u001b[0m\n\u001b[1;32m      3\u001b[0m api \u001b[38;5;241m=\u001b[39m KaggleApi()\n\u001b[1;32m      4\u001b[0m api\u001b[38;5;241m.\u001b[39mauthenticate()\n\u001b[0;32m----> 5\u001b[0m datasets \u001b[38;5;241m=\u001b[39m api\u001b[38;5;241m.\u001b[39mdataset_list(search\u001b[38;5;241m=\u001b[39mkeyword)\n\u001b[1;32m      6\u001b[0m results \u001b[38;5;241m=\u001b[39m []\n\u001b[1;32m      7\u001b[0m \u001b[38;5;28;01mfor\u001b[39;00m ds \u001b[38;5;129;01min\u001b[39;00m datasets:\n\u001b[1;32m      8\u001b[0m     \u001b[38;5;66;03m# ds.title is the human name, ds.ref is \"owner/dataset-slug\"\u001b[39;00m\n",
      "\u001b[0;31mNameError\u001b[0m: name 'keyword' is not defined"
     ]
    }
   ],
   "source": [
    "from kaggle.api.kaggle_api_extended import KaggleApi\n",
    "\n",
    "api = KaggleApi()\n",
    "api.authenticate()\n",
    "datasets = api.dataset_list(search='arabic speech to text')\n",
    "results = []\n",
    "for ds in datasets:\n",
    "    # ds.title is the human name, ds.ref is \"owner/dataset-slug\"\n",
    "    results.append((ds.title, ds.ref))\n",
    "print(results)"
   ]
  },
  {
   "cell_type": "code",
   "execution_count": null,
   "id": "36dd7e58",
   "metadata": {},
   "outputs": [],
   "source": [
    "api.dataset_download_files()"
   ]
  }
 ],
 "metadata": {
  "kernelspec": {
   "display_name": "Python 3 (ipykernel)",
   "language": "python",
   "name": "python3"
  },
  "language_info": {
   "codemirror_mode": {
    "name": "ipython",
    "version": 3
   },
   "file_extension": ".py",
   "mimetype": "text/x-python",
   "name": "python",
   "nbconvert_exporter": "python",
   "pygments_lexer": "ipython3",
   "version": "3.11.5"
  }
 },
 "nbformat": 4,
 "nbformat_minor": 5
}
