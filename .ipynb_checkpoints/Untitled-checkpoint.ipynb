{
 "cells": [
  {
   "cell_type": "code",
   "execution_count": 1,
   "id": "1901face",
   "metadata": {},
   "outputs": [
    {
     "name": "stdout",
     "output_type": "stream",
     "text": [
      "Collecting kaggle\n",
      "  Downloading kaggle-1.7.4.5-py3-none-any.whl.metadata (16 kB)\n",
      "Requirement already satisfied: bleach in /Users/muddassirkhalidi/anaconda3/lib/python3.11/site-packages (from kaggle) (4.1.0)\n",
      "Requirement already satisfied: certifi>=14.05.14 in /Users/muddassirkhalidi/anaconda3/lib/python3.11/site-packages (from kaggle) (2024.2.2)\n",
      "Requirement already satisfied: charset-normalizer in /Users/muddassirkhalidi/anaconda3/lib/python3.11/site-packages (from kaggle) (2.0.4)\n",
      "Requirement already satisfied: idna in /Users/muddassirkhalidi/anaconda3/lib/python3.11/site-packages (from kaggle) (3.4)\n",
      "Requirement already satisfied: protobuf in /Users/muddassirkhalidi/anaconda3/lib/python3.11/site-packages (from kaggle) (4.25.3)\n",
      "Requirement already satisfied: python-dateutil>=2.5.3 in /Users/muddassirkhalidi/anaconda3/lib/python3.11/site-packages (from kaggle) (2.8.2)\n",
      "Requirement already satisfied: python-slugify in /Users/muddassirkhalidi/anaconda3/lib/python3.11/site-packages (from kaggle) (5.0.2)\n",
      "Requirement already satisfied: requests in /Users/muddassirkhalidi/anaconda3/lib/python3.11/site-packages (from kaggle) (2.31.0)\n",
      "Requirement already satisfied: setuptools>=21.0.0 in /Users/muddassirkhalidi/anaconda3/lib/python3.11/site-packages (from kaggle) (68.0.0)\n",
      "Requirement already satisfied: six>=1.10 in /Users/muddassirkhalidi/anaconda3/lib/python3.11/site-packages (from kaggle) (1.16.0)\n",
      "Requirement already satisfied: text-unidecode in /Users/muddassirkhalidi/anaconda3/lib/python3.11/site-packages (from kaggle) (1.3)\n",
      "Requirement already satisfied: tqdm in /Users/muddassirkhalidi/anaconda3/lib/python3.11/site-packages (from kaggle) (4.66.1)\n",
      "Requirement already satisfied: urllib3>=1.15.1 in /Users/muddassirkhalidi/anaconda3/lib/python3.11/site-packages (from kaggle) (2.2.2)\n",
      "Requirement already satisfied: webencodings in /Users/muddassirkhalidi/anaconda3/lib/python3.11/site-packages (from kaggle) (0.5.1)\n",
      "Requirement already satisfied: packaging in /Users/muddassirkhalidi/anaconda3/lib/python3.11/site-packages (from bleach->kaggle) (24.1)\n",
      "Downloading kaggle-1.7.4.5-py3-none-any.whl (181 kB)\n",
      "Installing collected packages: kaggle\n",
      "Successfully installed kaggle-1.7.4.5\n",
      "Note: you may need to restart the kernel to use updated packages.\n"
     ]
    }
   ],
   "source": [
    "pip install kaggle"
   ]
  },
  {
   "cell_type": "code",
   "execution_count": 5,
   "id": "2d1c41f8",
   "metadata": {},
   "outputs": [
    {
     "name": "stdout",
     "output_type": "stream",
     "text": [
      "Warning: Your Kaggle API key is readable by other users on this system! To fix this, you can run 'chmod 600 /Users/muddassirkhalidi/.kaggle/kaggle.json'\n",
      "[('Arabic Natural Audio Dataset', 'suso172/arabic-natural-audio-dataset'), ('SADA صدى', 'sdaiancai/sada2022'), ('400K Egyptian Arabic Lines', 'fadisarwat/egyptian-arabic-lines'), ('Egyptian Audio Dataset Collected From Youtube', 'ahmedshafiq12/egyptian-audio-dataset-collected-from-youtube'), ('4M LLM text logs dataset', 'simongraves/llm-text-generation-dataset'), ('Quran Ayat Speech to text', 'bigguyubuntu/quran-ayat-speech-to-text'), ('Multi-lingual HateSpeech Dataset', 'wajidhassanmoosa/multilingual-hatespeech-dataset'), ('2.5+ Million Rows Egyptian Datasets Collection', 'mostafanofal/two-million-rows-egyptian-datasets'), ('Tashkeela: Arabic diacritization corpus', 'linuxscout/tashkeela'), ('Arabic Speech Corpus', 'haithemhermessi/arabic-speech-corpus'), ('Arabic YouTube Comments by Khalaya', 'farisalahmdi/arabic-youtube-comments-by-khalaya'), ('Ar-MGC: Arabic Music Genre Classification Dataset', 'araraltawil/audio-classifier'), ('Arabic Dialect Identification Corpora', 'corpora4research/arpod-corpus-based-on-arabic-podcasts'), ('Datasets for sentiment analysis of arabizi tweets', 'mariajmraidy/datasets-for-sentiment-analysis-of-arabizi'), ('speech corpus arabic Moroccan dialect ', 'iamigmim/speech-corpus-arabic-moroccan-aialect'), ('Multi-Lingual Semantic Cyberbully Detection', 'sayankr007/multi-lingual-cyberbully-detection-15-languages'), ('JANON-SPEECH', 'shortg/janonspeech'), ('The Bible and The Quran: Sentiment Analysis.', 'patricklford/bible-and-quran-sentiment-analysis'), ('Levantine Arabic Hate Speech Detection Corpus', 'ziedzen/levantine-arabic-hate-speech-detection-corpus'), ('SciSoundArabia', 'ghalebaa/scisoundarabia')]\n"
     ]
    }
   ],
   "source": [
    "from kaggle.api.kaggle_api_extended import KaggleApi\n",
    "\n",
    "api = KaggleApi()\n",
    "api.authenticate()\n",
    "datasets = api.dataset_list(search='arabic speech to text')\n",
    "results = []\n",
    "for ds in datasets:\n",
    "    # ds.title is the human name, ds.ref is \"owner/dataset-slug\"\n",
    "    results.append((ds.title, ds.ref))\n",
    "print(results)"
   ]
  },
  {
   "cell_type": "code",
   "execution_count": 6,
   "id": "c959187f",
   "metadata": {},
   "outputs": [
    {
     "name": "stdout",
     "output_type": "stream",
     "text": [
      "Dataset URL: https://www.kaggle.com/datasets/suso172/arabic-natural-audio-dataset\n",
      "Downloading arabic-natural-audio-dataset.zip to .\n"
     ]
    },
    {
     "name": "stderr",
     "output_type": "stream",
     "text": [
      "100%|█████████████████████████████████████████████████████████████████████████████████████████████████████████████████████████████████████████████████████████████████████| 560M/560M [00:00<00:00, 941MB/s]\n"
     ]
    },
    {
     "name": "stdout",
     "output_type": "stream",
     "text": [
      "\n"
     ]
    }
   ],
   "source": [
    "api.dataset_download_files('suso172/arabic-natural-audio-dataset', path='.', quiet=False)"
   ]
  },
  {
   "cell_type": "code",
   "execution_count": 8,
   "id": "836a4e4d",
   "metadata": {},
   "outputs": [
    {
     "ename": "TypeError",
     "evalue": "'list' object is not callable",
     "output_type": "error",
     "traceback": [
      "\u001b[0;31m---------------------------------------------------------------------------\u001b[0m",
      "\u001b[0;31mTypeError\u001b[0m                                 Traceback (most recent call last)",
      "Cell \u001b[0;32mIn[8], line 1\u001b[0m\n\u001b[0;32m----> 1\u001b[0m details \u001b[38;5;241m=\u001b[39m api\u001b[38;5;241m.\u001b[39mdataset_fields(\u001b[38;5;124m'\u001b[39m\u001b[38;5;124msuso172/arabic-natural-audio-dataset\u001b[39m\u001b[38;5;124m'\u001b[39m)\n\u001b[1;32m      2\u001b[0m \u001b[38;5;28mprint\u001b[39m(\u001b[38;5;124m\"\u001b[39m\u001b[38;5;124mDataset size (bytes):\u001b[39m\u001b[38;5;124m\"\u001b[39m, details\u001b[38;5;241m.\u001b[39msize)\n\u001b[1;32m      3\u001b[0m \u001b[38;5;28;01mif\u001b[39;00m details\u001b[38;5;241m.\u001b[39msize \u001b[38;5;129;01mis\u001b[39;00m \u001b[38;5;129;01mnot\u001b[39;00m \u001b[38;5;28;01mNone\u001b[39;00m:\n",
      "\u001b[0;31mTypeError\u001b[0m: 'list' object is not callable"
     ]
    }
   ],
   "source": [
    "details = api.dataset_fields('suso172/arabic-natural-audio-dataset')\n",
    "print(\"Dataset size (bytes):\", details.size)\n",
    "if details.size is not None:\n",
    "    print(\"Dataset size (MB):\", details.size / (1024*1024))"
   ]
  },
  {
   "cell_type": "code",
   "execution_count": 1,
   "id": "2b7f6bc6",
   "metadata": {},
   "outputs": [],
   "source": [
    "import pandas as pd"
   ]
  },
  {
   "cell_type": "code",
   "execution_count": 7,
   "id": "c023cdb3",
   "metadata": {},
   "outputs": [],
   "source": [
    "df = pd.read_csv('Quran_english.csv')"
   ]
  },
  {
   "cell_type": "code",
   "execution_count": 12,
   "id": "a8744ac8",
   "metadata": {},
   "outputs": [
    {
     "data": {
      "text/plain": [
       "[dtype('int64'), dtype('int64'), dtype('int64'), dtype('O')]"
      ]
     },
     "execution_count": 12,
     "metadata": {},
     "output_type": "execute_result"
    }
   ],
   "source": [
    "df.de"
   ]
  },
  {
   "cell_type": "code",
   "execution_count": null,
   "id": "32baa5d0",
   "metadata": {},
   "outputs": [],
   "source": []
  }
 ],
 "metadata": {
  "kernelspec": {
   "display_name": "Python 3 (ipykernel)",
   "language": "python",
   "name": "python3"
  },
  "language_info": {
   "codemirror_mode": {
    "name": "ipython",
    "version": 3
   },
   "file_extension": ".py",
   "mimetype": "text/x-python",
   "name": "python",
   "nbconvert_exporter": "python",
   "pygments_lexer": "ipython3",
   "version": "3.11.5"
  }
 },
 "nbformat": 4,
 "nbformat_minor": 5
}
