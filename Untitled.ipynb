{
 "cells": [
  {
   "cell_type": "code",
   "execution_count": 1,
   "id": "1901face",
   "metadata": {},
   "outputs": [
    {
     "name": "stdout",
     "output_type": "stream",
     "text": [
      "Collecting kaggle\n",
      "  Downloading kaggle-1.7.4.5-py3-none-any.whl.metadata (16 kB)\n",
      "Requirement already satisfied: bleach in /Users/muddassirkhalidi/anaconda3/lib/python3.11/site-packages (from kaggle) (4.1.0)\n",
      "Requirement already satisfied: certifi>=14.05.14 in /Users/muddassirkhalidi/anaconda3/lib/python3.11/site-packages (from kaggle) (2024.2.2)\n",
      "Requirement already satisfied: charset-normalizer in /Users/muddassirkhalidi/anaconda3/lib/python3.11/site-packages (from kaggle) (2.0.4)\n",
      "Requirement already satisfied: idna in /Users/muddassirkhalidi/anaconda3/lib/python3.11/site-packages (from kaggle) (3.4)\n",
      "Requirement already satisfied: protobuf in /Users/muddassirkhalidi/anaconda3/lib/python3.11/site-packages (from kaggle) (4.25.3)\n",
      "Requirement already satisfied: python-dateutil>=2.5.3 in /Users/muddassirkhalidi/anaconda3/lib/python3.11/site-packages (from kaggle) (2.8.2)\n",
      "Requirement already satisfied: python-slugify in /Users/muddassirkhalidi/anaconda3/lib/python3.11/site-packages (from kaggle) (5.0.2)\n",
      "Requirement already satisfied: requests in /Users/muddassirkhalidi/anaconda3/lib/python3.11/site-packages (from kaggle) (2.31.0)\n",
      "Requirement already satisfied: setuptools>=21.0.0 in /Users/muddassirkhalidi/anaconda3/lib/python3.11/site-packages (from kaggle) (68.0.0)\n",
      "Requirement already satisfied: six>=1.10 in /Users/muddassirkhalidi/anaconda3/lib/python3.11/site-packages (from kaggle) (1.16.0)\n",
      "Requirement already satisfied: text-unidecode in /Users/muddassirkhalidi/anaconda3/lib/python3.11/site-packages (from kaggle) (1.3)\n",
      "Requirement already satisfied: tqdm in /Users/muddassirkhalidi/anaconda3/lib/python3.11/site-packages (from kaggle) (4.66.1)\n",
      "Requirement already satisfied: urllib3>=1.15.1 in /Users/muddassirkhalidi/anaconda3/lib/python3.11/site-packages (from kaggle) (2.2.2)\n",
      "Requirement already satisfied: webencodings in /Users/muddassirkhalidi/anaconda3/lib/python3.11/site-packages (from kaggle) (0.5.1)\n",
      "Requirement already satisfied: packaging in /Users/muddassirkhalidi/anaconda3/lib/python3.11/site-packages (from bleach->kaggle) (24.1)\n",
      "Downloading kaggle-1.7.4.5-py3-none-any.whl (181 kB)\n",
      "Installing collected packages: kaggle\n",
      "Successfully installed kaggle-1.7.4.5\n",
      "Note: you may need to restart the kernel to use updated packages.\n"
     ]
    }
   ],
   "source": [
    "pip install kaggle"
   ]
  },
  {
   "cell_type": "code",
   "execution_count": 17,
   "id": "2d1c41f8",
   "metadata": {},
   "outputs": [
    {
     "name": "stdout",
     "output_type": "stream",
     "text": [
      "Warning: Your Kaggle API key is readable by other users on this system! To fix this, you can run 'chmod 600 /Users/muddassirkhalidi/.kaggle/kaggle.json'\n",
      "ealaxi/banksim1 Synthetic data from a financial payment system\n",
      "heidarmirhajisadati/deutschebank-financial-performance DeutscheBank Financial Performance\n",
      "shriyashjagtap/esg-and-financial-performance-dataset 🌍 ESG & Financial Performance Dataset\n",
      "ashwinik/consumer-complaints-financial-products Consumer Complaints - Financial products\n",
      "patricklford/largest-companies-analysis-worldwide World Top Companies: Key Financial Analysis\n",
      "younusmohamed/payment-fraud-empowering-financial-security Payment Fraud - Empowering Financial Security\n",
      "borhanitrash/twitter-financial-news-sentiment-dataset Twitter Financial News Sentiment Dataset\n",
      "aryan208/financial-transactions-dataset-for-fraud-detection Financial Transactions Dataset for Fraud Detection\n",
      "noeyislearning/sme-financial-decision-making SME Financial Decision Making\n",
      "mathurinache/world-happiness-report World Happiness Report up to 2022\n",
      "securities-exchange-commission/financial-statement-extracts Financial Statement Extracts\n",
      "jamiedcollins/hjsjdjdjdjd Apple Financials 2009-2024\n",
      "atharvasoundankar/big-4-financial-risk-insights-2020-2025 Big 4 Financial Risk  Insights (2020-2025)\n",
      "yousefsaeedian/financial-q-and-a-10k Financial Q&A - 10k\n",
      "rish59/financial-statements-of-major-companies2009-2023 Financial Statements of Major Companies(2009-2023)\n",
      "vivekrathi055/sentiment-analysis-on-financial-tweets Sentiment Analysis on Financial Tweets\n",
      "adhoppin/financial-data Financial Data \n",
      "thedevastator/apple-s-historical-financials Apple's Historical Financials\n",
      "prajwaldongre/global-financial-giants-by-revenue-2024 Global Financial Giants by Revenue 2024\n",
      "imaadmahmood/global-finance-and-economic-indicators-dataset-2024 Financial Market Datasets 2024\n"
     ]
    }
   ],
   "source": [
    "from kaggle.api.kaggle_api_extended import KaggleApi\n",
    "\n",
    "api = KaggleApi()\n",
    "api.authenticate()\n",
    "results = api.dataset_list(search='financial', page=2)\n",
    "\n",
    "for d in results:\n",
    "    print(d.ref, d.title)"
   ]
  },
  {
   "cell_type": "code",
   "execution_count": 6,
   "id": "c959187f",
   "metadata": {},
   "outputs": [
    {
     "name": "stdout",
     "output_type": "stream",
     "text": [
      "Dataset URL: https://www.kaggle.com/datasets/suso172/arabic-natural-audio-dataset\n",
      "Downloading arabic-natural-audio-dataset.zip to .\n"
     ]
    },
    {
     "name": "stderr",
     "output_type": "stream",
     "text": [
      "100%|█████████████████████████████████████████████████████████████████████████████████████████████████████████████████████████████████████████████████████████████████████| 560M/560M [00:00<00:00, 941MB/s]\n"
     ]
    },
    {
     "name": "stdout",
     "output_type": "stream",
     "text": [
      "\n"
     ]
    }
   ],
   "source": [
    "api.dataset_download_files('suso172/arabic-natural-audio-dataset', path='.', quiet=False)"
   ]
  },
  {
   "cell_type": "code",
   "execution_count": 8,
   "id": "836a4e4d",
   "metadata": {},
   "outputs": [
    {
     "ename": "TypeError",
     "evalue": "'list' object is not callable",
     "output_type": "error",
     "traceback": [
      "\u001b[0;31m---------------------------------------------------------------------------\u001b[0m",
      "\u001b[0;31mTypeError\u001b[0m                                 Traceback (most recent call last)",
      "Cell \u001b[0;32mIn[8], line 1\u001b[0m\n\u001b[0;32m----> 1\u001b[0m details \u001b[38;5;241m=\u001b[39m api\u001b[38;5;241m.\u001b[39mdataset_fields(\u001b[38;5;124m'\u001b[39m\u001b[38;5;124msuso172/arabic-natural-audio-dataset\u001b[39m\u001b[38;5;124m'\u001b[39m)\n\u001b[1;32m      2\u001b[0m \u001b[38;5;28mprint\u001b[39m(\u001b[38;5;124m\"\u001b[39m\u001b[38;5;124mDataset size (bytes):\u001b[39m\u001b[38;5;124m\"\u001b[39m, details\u001b[38;5;241m.\u001b[39msize)\n\u001b[1;32m      3\u001b[0m \u001b[38;5;28;01mif\u001b[39;00m details\u001b[38;5;241m.\u001b[39msize \u001b[38;5;129;01mis\u001b[39;00m \u001b[38;5;129;01mnot\u001b[39;00m \u001b[38;5;28;01mNone\u001b[39;00m:\n",
      "\u001b[0;31mTypeError\u001b[0m: 'list' object is not callable"
     ]
    }
   ],
   "source": [
    "details = api.dataset_fields('suso172/arabic-natural-audio-dataset')\n",
    "print(\"Dataset size (bytes):\", details.size)\n",
    "if details.size is not None:\n",
    "    print(\"Dataset size (MB):\", details.size / (1024*1024))"
   ]
  },
  {
   "cell_type": "code",
   "execution_count": 1,
   "id": "2b7f6bc6",
   "metadata": {},
   "outputs": [],
   "source": [
    "import pandas as pd"
   ]
  },
  {
   "cell_type": "code",
   "execution_count": 7,
   "id": "6aa3eadd",
   "metadata": {},
   "outputs": [],
   "source": [
    "df = pd.read_csv('Quran_english.csv')"
   ]
  },
  {
   "cell_type": "code",
   "execution_count": 14,
   "id": "64a4fe22",
   "metadata": {},
   "outputs": [
    {
     "data": {
      "text/html": [
       "<div>\n",
       "<style scoped>\n",
       "    .dataframe tbody tr th:only-of-type {\n",
       "        vertical-align: middle;\n",
       "    }\n",
       "\n",
       "    .dataframe tbody tr th {\n",
       "        vertical-align: top;\n",
       "    }\n",
       "\n",
       "    .dataframe thead th {\n",
       "        text-align: right;\n",
       "    }\n",
       "</style>\n",
       "<table border=\"1\" class=\"dataframe\">\n",
       "  <thead>\n",
       "    <tr style=\"text-align: right;\">\n",
       "      <th></th>\n",
       "      <th>id</th>\n",
       "      <th>surahs</th>\n",
       "      <th>ayahs</th>\n",
       "      <th>ayahs-translation</th>\n",
       "    </tr>\n",
       "  </thead>\n",
       "  <tbody>\n",
       "    <tr>\n",
       "      <th>0</th>\n",
       "      <td>1</td>\n",
       "      <td>1</td>\n",
       "      <td>1</td>\n",
       "      <td>In the name of Allah, Most Gracious, Most Merc...</td>\n",
       "    </tr>\n",
       "    <tr>\n",
       "      <th>1</th>\n",
       "      <td>2</td>\n",
       "      <td>1</td>\n",
       "      <td>2</td>\n",
       "      <td>Praise be to Allah, the Cherisher and Sustaine...</td>\n",
       "    </tr>\n",
       "    <tr>\n",
       "      <th>2</th>\n",
       "      <td>3</td>\n",
       "      <td>1</td>\n",
       "      <td>3</td>\n",
       "      <td>Most Gracious, Most Merciful;</td>\n",
       "    </tr>\n",
       "    <tr>\n",
       "      <th>3</th>\n",
       "      <td>4</td>\n",
       "      <td>1</td>\n",
       "      <td>4</td>\n",
       "      <td>Master of the Day of Judgment.</td>\n",
       "    </tr>\n",
       "    <tr>\n",
       "      <th>4</th>\n",
       "      <td>5</td>\n",
       "      <td>1</td>\n",
       "      <td>5</td>\n",
       "      <td>Thee do we worship, and Thine aid we seek.</td>\n",
       "    </tr>\n",
       "  </tbody>\n",
       "</table>\n",
       "</div>"
      ],
      "text/plain": [
       "   id  surahs  ayahs                                  ayahs-translation\n",
       "0   1       1      1  In the name of Allah, Most Gracious, Most Merc...\n",
       "1   2       1      2  Praise be to Allah, the Cherisher and Sustaine...\n",
       "2   3       1      3                      Most Gracious, Most Merciful;\n",
       "3   4       1      4                     Master of the Day of Judgment.\n",
       "4   5       1      5         Thee do we worship, and Thine aid we seek."
      ]
     },
     "execution_count": 14,
     "metadata": {},
     "output_type": "execute_result"
    }
   ],
   "source": []
  },
  {
   "cell_type": "code",
   "execution_count": 20,
   "id": "462f8b1d",
   "metadata": {},
   "outputs": [
    {
     "name": "stdout",
     "output_type": "stream",
     "text": [
      "Warning: Your Kaggle API key is readable by other users on this system! To fix this, you can run 'chmod 600 /Users/muddassirkhalidi/.kaggle/kaggle.json'\n",
      "Total datasets fetched: 200\n"
     ]
    }
   ],
   "source": [
    "from kaggle.api.kaggle_api_extended import KaggleApi\n",
    "\n",
    "api = KaggleApi()\n",
    "api.authenticate()\n",
    "\n",
    "all_results = []\n",
    "page = 1\n",
    "\n",
    "while page <= 10:\n",
    "    results = api.dataset_list(search='financial', page=page)\n",
    "    if not results:  # No more datasets\n",
    "        break\n",
    "    all_results.extend(results)\n",
    "    page += 1\n",
    "\n",
    "print(f\"Total datasets fetched: {len(all_results)}\")\n"
   ]
  },
  {
   "cell_type": "code",
   "execution_count": null,
   "id": "94aa791a",
   "metadata": {},
   "outputs": [],
   "source": []
  }
 ],
 "metadata": {
  "kernelspec": {
   "display_name": "Python 3 (ipykernel)",
   "language": "python",
   "name": "python3"
  },
  "language_info": {
   "codemirror_mode": {
    "name": "ipython",
    "version": 3
   },
   "file_extension": ".py",
   "mimetype": "text/x-python",
   "name": "python",
   "nbconvert_exporter": "python",
   "pygments_lexer": "ipython3",
   "version": "3.11.5"
  }
 },
 "nbformat": 4,
 "nbformat_minor": 5
}
